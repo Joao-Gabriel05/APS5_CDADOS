{
 "cells": [
  {
   "cell_type": "code",
   "execution_count": 25,
   "metadata": {},
   "outputs": [],
   "source": [
    "import pandas as pd \n",
    "import scipy.stats as st\n",
    "db=pd.read_csv('WorldCupMatches.csv')\n",
    "db.head()\n",
    "filtro1=db['Home Team Name']=='Brazil'\n",
    "db_bra_casa=db[filtro1]\n",
    "db_bra_casa\n",
    "filtro2=db['Away Team Name']=='Brazil'\n",
    "db_bra_fora=db[filtro2]\n",
    "N=len(db_bra_casa)+len(db_bra_fora)\n",
    "L=(db_bra_casa['Home Team Goals'].mean() + db_bra_fora['Away Team Goals'].mean())/2\n"
   ]
  },
  {
   "cell_type": "code",
   "execution_count": 32,
   "metadata": {},
   "outputs": [
    {
     "name": "stdout",
     "output_type": "stream",
     "text": [
      "1.698710590104872 2.227180591883871\n"
     ]
    }
   ],
   "source": [
    "sigma_lambda = st.poisson.std(L)\n",
    "sigma_lambda\n",
    "lim_inf = st.norm.ppf(0.025, loc=L, scale=sigma_lambda/N**0.5)\n",
    "lim_sup = st.norm.ppf(1-0.025,loc=L, scale=sigma_lambda/N**0.5)\n",
    "print(lim_inf, lim_sup)"
   ]
  }
 ],
 "metadata": {
  "kernelspec": {
   "display_name": "Python 3",
   "language": "python",
   "name": "python3"
  },
  "language_info": {
   "codemirror_mode": {
    "name": "ipython",
    "version": 3
   },
   "file_extension": ".py",
   "mimetype": "text/x-python",
   "name": "python",
   "nbconvert_exporter": "python",
   "pygments_lexer": "ipython3",
   "version": "3.9.6"
  },
  "orig_nbformat": 4
 },
 "nbformat": 4,
 "nbformat_minor": 2
}
